{
 "cells": [
  {
   "cell_type": "markdown",
   "metadata": {},
   "source": [
    "# Model Training"
   ]
  },
  {
   "cell_type": "code",
   "execution_count": 69,
   "metadata": {},
   "outputs": [],
   "source": [
    "# Importing Packages\n",
    "\n",
    "import numpy as np\n",
    "import pandas as pd\n",
    "\n",
    "from sklearn.metrics import mean_squared_error, r2_score, mean_absolute_error\n",
    "from sklearn.neighbors import KNeighborsRegressor\n",
    "from sklearn.tree import DecisionTreeRegressor\n",
    "from sklearn.ensemble import RandomForestRegressor, AdaBoostRegressor\n",
    "from sklearn.svm import SVR\n",
    "from sklearn.linear_model import LinearRegression, Ridge, Lasso\n",
    "from sklearn.model_selection import RandomizedSearchCV, train_test_split\n",
    "# from catboost import CatBoostRegressor\n",
    "from xgboost import XGBRegressor\n",
    "\n",
    "from sklearn.preprocessing import OneHotEncoder, StandardScaler\n",
    "from sklearn.compose import ColumnTransformer\n",
    "\n",
    "import matplotlib.pyplot as plt\n",
    "import seaborn as sns\n",
    "\n",
    "from warnings import filterwarnings\n",
    "filterwarnings('ignore')"
   ]
  },
  {
   "cell_type": "code",
   "execution_count": 27,
   "metadata": {},
   "outputs": [
    {
     "data": {
      "text/html": [
       "<div>\n",
       "<style scoped>\n",
       "    .dataframe tbody tr th:only-of-type {\n",
       "        vertical-align: middle;\n",
       "    }\n",
       "\n",
       "    .dataframe tbody tr th {\n",
       "        vertical-align: top;\n",
       "    }\n",
       "\n",
       "    .dataframe thead th {\n",
       "        text-align: right;\n",
       "    }\n",
       "</style>\n",
       "<table border=\"1\" class=\"dataframe\">\n",
       "  <thead>\n",
       "    <tr style=\"text-align: right;\">\n",
       "      <th></th>\n",
       "      <th>gender</th>\n",
       "      <th>race_ethnicity</th>\n",
       "      <th>parental_level_of_education</th>\n",
       "      <th>lunch</th>\n",
       "      <th>test_preparation_course</th>\n",
       "      <th>math_score</th>\n",
       "      <th>reading_score</th>\n",
       "      <th>writing_score</th>\n",
       "    </tr>\n",
       "  </thead>\n",
       "  <tbody>\n",
       "    <tr>\n",
       "      <th>0</th>\n",
       "      <td>female</td>\n",
       "      <td>group B</td>\n",
       "      <td>bachelor's degree</td>\n",
       "      <td>standard</td>\n",
       "      <td>none</td>\n",
       "      <td>72</td>\n",
       "      <td>72</td>\n",
       "      <td>74</td>\n",
       "    </tr>\n",
       "    <tr>\n",
       "      <th>1</th>\n",
       "      <td>female</td>\n",
       "      <td>group C</td>\n",
       "      <td>some college</td>\n",
       "      <td>standard</td>\n",
       "      <td>completed</td>\n",
       "      <td>69</td>\n",
       "      <td>90</td>\n",
       "      <td>88</td>\n",
       "    </tr>\n",
       "    <tr>\n",
       "      <th>2</th>\n",
       "      <td>female</td>\n",
       "      <td>group B</td>\n",
       "      <td>master's degree</td>\n",
       "      <td>standard</td>\n",
       "      <td>none</td>\n",
       "      <td>90</td>\n",
       "      <td>95</td>\n",
       "      <td>93</td>\n",
       "    </tr>\n",
       "    <tr>\n",
       "      <th>3</th>\n",
       "      <td>male</td>\n",
       "      <td>group A</td>\n",
       "      <td>associate's degree</td>\n",
       "      <td>free/reduced</td>\n",
       "      <td>none</td>\n",
       "      <td>47</td>\n",
       "      <td>57</td>\n",
       "      <td>44</td>\n",
       "    </tr>\n",
       "    <tr>\n",
       "      <th>4</th>\n",
       "      <td>male</td>\n",
       "      <td>group C</td>\n",
       "      <td>some college</td>\n",
       "      <td>standard</td>\n",
       "      <td>none</td>\n",
       "      <td>76</td>\n",
       "      <td>78</td>\n",
       "      <td>75</td>\n",
       "    </tr>\n",
       "  </tbody>\n",
       "</table>\n",
       "</div>"
      ],
      "text/plain": [
       "   gender race_ethnicity  ... reading_score writing_score\n",
       "0  female        group B  ...            72            74\n",
       "1  female        group C  ...            90            88\n",
       "2  female        group B  ...            95            93\n",
       "3    male        group A  ...            57            44\n",
       "4    male        group C  ...            78            75\n",
       "\n",
       "[5 rows x 8 columns]"
      ]
     },
     "execution_count": 27,
     "metadata": {},
     "output_type": "execute_result"
    }
   ],
   "source": [
    "# Importing the data\n",
    "df = pd.read_csv('Data/stud_data.csv')\n",
    "df.head()"
   ]
  },
  {
   "cell_type": "markdown",
   "metadata": {},
   "source": [
    "Preparing X and y"
   ]
  },
  {
   "cell_type": "code",
   "execution_count": 37,
   "metadata": {},
   "outputs": [
    {
     "data": {
      "text/plain": [
       "((1000, 7), (1000,))"
      ]
     },
     "execution_count": 37,
     "metadata": {},
     "output_type": "execute_result"
    }
   ],
   "source": [
    "x = df.drop(columns=['math_score'])\n",
    "y = df.math_score\n",
    "\n",
    "x.shape, y.shape"
   ]
  },
  {
   "cell_type": "code",
   "execution_count": 38,
   "metadata": {},
   "outputs": [
    {
     "data": {
      "text/plain": [
       "(Index(['reading_score', 'writing_score'], dtype='object'),\n",
       " Index(['gender', 'race_ethnicity', 'parental_level_of_education', 'lunch',\n",
       "        'test_preparation_course'],\n",
       "       dtype='object'))"
      ]
     },
     "execution_count": 38,
     "metadata": {},
     "output_type": "execute_result"
    }
   ],
   "source": [
    "num_cols = x.select_dtypes(exclude='object').columns\n",
    "cat_cols = x.select_dtypes(include='object').columns\n",
    "\n",
    "num_cols, cat_cols"
   ]
  },
  {
   "cell_type": "code",
   "execution_count": 39,
   "metadata": {},
   "outputs": [
    {
     "data": {
      "text/plain": [
       "(1000, 14)"
      ]
     },
     "execution_count": 39,
     "metadata": {},
     "output_type": "execute_result"
    }
   ],
   "source": [
    "scaler = StandardScaler()\n",
    "oh_enc = OneHotEncoder(drop='first')\n",
    "\n",
    "preprocess = ColumnTransformer([\n",
    "    (\"One Hot Encoder\", oh_enc, cat_cols),\n",
    "    (\"Scaling\", scaler, num_cols)\n",
    "])\n",
    "\n",
    "x = preprocess.fit_transform(x)\n",
    "x.shape"
   ]
  },
  {
   "cell_type": "code",
   "execution_count": 41,
   "metadata": {},
   "outputs": [
    {
     "data": {
      "text/plain": [
       "((800, 14), (200,))"
      ]
     },
     "execution_count": 41,
     "metadata": {},
     "output_type": "execute_result"
    }
   ],
   "source": [
    "x_tr, x_tst, y_tr, y_tst = train_test_split(x, y, test_size=0.2, random_state=34)\n",
    "x_tr.shape, y_tst.shape"
   ]
  },
  {
   "cell_type": "markdown",
   "metadata": {},
   "source": [
    "Defining a evaluate model wihch will evaluate and give scores for all the models"
   ]
  },
  {
   "cell_type": "code",
   "execution_count": 52,
   "metadata": {},
   "outputs": [],
   "source": [
    "def evaluate(true, pred):\n",
    "    ret = {}\n",
    "    ret['MAE'] = mean_squared_error(true, pred)\n",
    "    ret['MSE'] = mean_squared_error(true, pred)\n",
    "    ret['RMSE'] = np.sqrt(ret['MSE']).item()\n",
    "    ret['R2S'] = r2_score(true, pred)\n",
    "    return ret"
   ]
  },
  {
   "cell_type": "code",
   "execution_count": null,
   "metadata": {},
   "outputs": [
    {
     "name": "stdout",
     "output_type": "stream",
     "text": [
      "Liner Regression 0.8834745607644852\n",
      "Lasso 0.8082834270012514\n",
      "Ridge 0.8831479725522275\n",
      "KNN Regressor 0.7899091255283397\n",
      "Decision Tree 0.7343259697943243\n",
      "Random Forest 0.8394384816797831\n",
      "XG Boost 0.8253894448280334\n",
      "Ada Boost 0.826141008506762\n"
     ]
    }
   ],
   "source": [
    "models = {\n",
    "    'Liner Regression' : LinearRegression(),\n",
    "    'Lasso'            : Lasso(),\n",
    "    'Ridge'            : Ridge(),\n",
    "    'KNN Regressor'    : KNeighborsRegressor(),\n",
    "    'Decision Tree'    : DecisionTreeRegressor(),\n",
    "    'Random Forest'    : RandomForestRegressor(),\n",
    "    'XG Boost'         : XGBRegressor(),\n",
    "    'Ada Boost'        : AdaBoostRegressor()\n",
    "}\n",
    "\n",
    "result_list = []\n",
    "\n",
    "for i in range(len(list(models))):\n",
    "    model_name = list(models.keys())[i]\n",
    "    model = list(models.values())[i]\n",
    "    model.fit(x_tr, y_tr)\n",
    "\n",
    "    # making the predections\n",
    "    y_train_pred = model.predict(x_tr)\n",
    "    y_test_pred = model.predict(x_tst)\n",
    "\n",
    "    train_score = evaluate(y_tr, y_train_pred)\n",
    "    train_score['Type'] = 'Training'\n",
    "    train_score['Model'] = model_name\n",
    "    test_score = evaluate(y_tst, y_test_pred)\n",
    "    test_score['Type'] = 'Testing'\n",
    "    test_score['Model'] = model_name\n",
    "\n",
    "    print(model_name, test_score['R2S'])\n",
    "    result_list.extend([train_score, test_score])\n"
   ]
  },
  {
   "cell_type": "code",
   "execution_count": 60,
   "metadata": {},
   "outputs": [
    {
     "data": {
      "text/html": [
       "<div>\n",
       "<style scoped>\n",
       "    .dataframe tbody tr th:only-of-type {\n",
       "        vertical-align: middle;\n",
       "    }\n",
       "\n",
       "    .dataframe tbody tr th {\n",
       "        vertical-align: top;\n",
       "    }\n",
       "\n",
       "    .dataframe thead th {\n",
       "        text-align: right;\n",
       "    }\n",
       "</style>\n",
       "<table border=\"1\" class=\"dataframe\">\n",
       "  <thead>\n",
       "    <tr style=\"text-align: right;\">\n",
       "      <th></th>\n",
       "      <th>MAE</th>\n",
       "      <th>MSE</th>\n",
       "      <th>RMSE</th>\n",
       "      <th>R2S</th>\n",
       "      <th>Type</th>\n",
       "      <th>Model</th>\n",
       "    </tr>\n",
       "  </thead>\n",
       "  <tbody>\n",
       "    <tr>\n",
       "      <th>1</th>\n",
       "      <td>28.832120</td>\n",
       "      <td>28.832120</td>\n",
       "      <td>5.369555</td>\n",
       "      <td>0.883475</td>\n",
       "      <td>Testing</td>\n",
       "      <td>Liner Regression</td>\n",
       "    </tr>\n",
       "    <tr>\n",
       "      <th>5</th>\n",
       "      <td>28.912928</td>\n",
       "      <td>28.912928</td>\n",
       "      <td>5.377074</td>\n",
       "      <td>0.883148</td>\n",
       "      <td>Testing</td>\n",
       "      <td>Ridge</td>\n",
       "    </tr>\n",
       "    <tr>\n",
       "      <th>11</th>\n",
       "      <td>39.728054</td>\n",
       "      <td>39.728054</td>\n",
       "      <td>6.303019</td>\n",
       "      <td>0.839438</td>\n",
       "      <td>Testing</td>\n",
       "      <td>Random Forest</td>\n",
       "    </tr>\n",
       "    <tr>\n",
       "      <th>15</th>\n",
       "      <td>43.018274</td>\n",
       "      <td>43.018274</td>\n",
       "      <td>6.558832</td>\n",
       "      <td>0.826141</td>\n",
       "      <td>Testing</td>\n",
       "      <td>Ada Boost</td>\n",
       "    </tr>\n",
       "    <tr>\n",
       "      <th>13</th>\n",
       "      <td>43.204239</td>\n",
       "      <td>43.204239</td>\n",
       "      <td>6.572993</td>\n",
       "      <td>0.825389</td>\n",
       "      <td>Testing</td>\n",
       "      <td>XG Boost</td>\n",
       "    </tr>\n",
       "    <tr>\n",
       "      <th>3</th>\n",
       "      <td>47.436810</td>\n",
       "      <td>47.436810</td>\n",
       "      <td>6.887439</td>\n",
       "      <td>0.808283</td>\n",
       "      <td>Testing</td>\n",
       "      <td>Lasso</td>\n",
       "    </tr>\n",
       "    <tr>\n",
       "      <th>7</th>\n",
       "      <td>51.983200</td>\n",
       "      <td>51.983200</td>\n",
       "      <td>7.209938</td>\n",
       "      <td>0.789909</td>\n",
       "      <td>Testing</td>\n",
       "      <td>KNN Regressor</td>\n",
       "    </tr>\n",
       "    <tr>\n",
       "      <th>9</th>\n",
       "      <td>65.736250</td>\n",
       "      <td>65.736250</td>\n",
       "      <td>8.107789</td>\n",
       "      <td>0.734326</td>\n",
       "      <td>Testing</td>\n",
       "      <td>Decision Tree</td>\n",
       "    </tr>\n",
       "    <tr>\n",
       "      <th>8</th>\n",
       "      <td>0.200625</td>\n",
       "      <td>0.200625</td>\n",
       "      <td>0.447912</td>\n",
       "      <td>0.999109</td>\n",
       "      <td>Training</td>\n",
       "      <td>Decision Tree</td>\n",
       "    </tr>\n",
       "    <tr>\n",
       "      <th>12</th>\n",
       "      <td>1.005593</td>\n",
       "      <td>1.005593</td>\n",
       "      <td>1.002793</td>\n",
       "      <td>0.995536</td>\n",
       "      <td>Training</td>\n",
       "      <td>XG Boost</td>\n",
       "    </tr>\n",
       "    <tr>\n",
       "      <th>10</th>\n",
       "      <td>5.306798</td>\n",
       "      <td>5.306798</td>\n",
       "      <td>2.303649</td>\n",
       "      <td>0.976440</td>\n",
       "      <td>Training</td>\n",
       "      <td>Random Forest</td>\n",
       "    </tr>\n",
       "    <tr>\n",
       "      <th>0</th>\n",
       "      <td>28.314385</td>\n",
       "      <td>28.314385</td>\n",
       "      <td>5.321126</td>\n",
       "      <td>0.874296</td>\n",
       "      <td>Training</td>\n",
       "      <td>Liner Regression</td>\n",
       "    </tr>\n",
       "    <tr>\n",
       "      <th>4</th>\n",
       "      <td>28.318906</td>\n",
       "      <td>28.318906</td>\n",
       "      <td>5.321551</td>\n",
       "      <td>0.874276</td>\n",
       "      <td>Training</td>\n",
       "      <td>Ridge</td>\n",
       "    </tr>\n",
       "    <tr>\n",
       "      <th>14</th>\n",
       "      <td>33.617497</td>\n",
       "      <td>33.617497</td>\n",
       "      <td>5.798060</td>\n",
       "      <td>0.850753</td>\n",
       "      <td>Training</td>\n",
       "      <td>Ada Boost</td>\n",
       "    </tr>\n",
       "    <tr>\n",
       "      <th>6</th>\n",
       "      <td>34.837000</td>\n",
       "      <td>34.837000</td>\n",
       "      <td>5.902288</td>\n",
       "      <td>0.845339</td>\n",
       "      <td>Training</td>\n",
       "      <td>KNN Regressor</td>\n",
       "    </tr>\n",
       "    <tr>\n",
       "      <th>2</th>\n",
       "      <td>42.823612</td>\n",
       "      <td>42.823612</td>\n",
       "      <td>6.543975</td>\n",
       "      <td>0.809881</td>\n",
       "      <td>Training</td>\n",
       "      <td>Lasso</td>\n",
       "    </tr>\n",
       "  </tbody>\n",
       "</table>\n",
       "</div>"
      ],
      "text/plain": [
       "          MAE        MSE      RMSE       R2S      Type             Model\n",
       "1   28.832120  28.832120  5.369555  0.883475   Testing  Liner Regression\n",
       "5   28.912928  28.912928  5.377074  0.883148   Testing             Ridge\n",
       "11  39.728054  39.728054  6.303019  0.839438   Testing     Random Forest\n",
       "15  43.018274  43.018274  6.558832  0.826141   Testing         Ada Boost\n",
       "13  43.204239  43.204239  6.572993  0.825389   Testing          XG Boost\n",
       "3   47.436810  47.436810  6.887439  0.808283   Testing             Lasso\n",
       "7   51.983200  51.983200  7.209938  0.789909   Testing     KNN Regressor\n",
       "9   65.736250  65.736250  8.107789  0.734326   Testing     Decision Tree\n",
       "8    0.200625   0.200625  0.447912  0.999109  Training     Decision Tree\n",
       "12   1.005593   1.005593  1.002793  0.995536  Training          XG Boost\n",
       "10   5.306798   5.306798  2.303649  0.976440  Training     Random Forest\n",
       "0   28.314385  28.314385  5.321126  0.874296  Training  Liner Regression\n",
       "4   28.318906  28.318906  5.321551  0.874276  Training             Ridge\n",
       "14  33.617497  33.617497  5.798060  0.850753  Training         Ada Boost\n",
       "6   34.837000  34.837000  5.902288  0.845339  Training     KNN Regressor\n",
       "2   42.823612  42.823612  6.543975  0.809881  Training             Lasso"
      ]
     },
     "execution_count": 60,
     "metadata": {},
     "output_type": "execute_result"
    }
   ],
   "source": [
    "pd.DataFrame(result_list).sort_values(['Type', 'R2S'], ascending=[True, False])"
   ]
  },
  {
   "cell_type": "markdown",
   "metadata": {},
   "source": [
    "Linear Regression model"
   ]
  },
  {
   "cell_type": "code",
   "execution_count": 66,
   "metadata": {},
   "outputs": [
    {
     "data": {
      "text/plain": [
       "'Accuracy of the model is  88.35%'"
      ]
     },
     "execution_count": 66,
     "metadata": {},
     "output_type": "execute_result"
    }
   ],
   "source": [
    "model = LinearRegression(fit_intercept=True)\n",
    "model.fit(x_tr, y_tr)\n",
    "y_pred = model.predict(x_tst)\n",
    "score = r2_score(y_tst, y_pred)*100\n",
    "\n",
    "f\"Accuracy of the model is {score : .2f}%\""
   ]
  },
  {
   "cell_type": "markdown",
   "metadata": {},
   "source": [
    "Plotting y_pred and y_test"
   ]
  },
  {
   "cell_type": "code",
   "execution_count": null,
   "metadata": {},
   "outputs": [
    {
     "data": {
      "text/plain": [
       "Text(0, 0.5, 'Predicted')"
      ]
     },
     "execution_count": 68,
     "metadata": {},
     "output_type": "execute_result"
    },
    {
     "data": {
      "image/png": "[encoded data removed]",
      "text/plain": [
       "<Figure size 640x480 with 1 Axes>"
      ]
     },
     "metadata": {},
     "output_type": "display_data"
    }
   ],
   "source": [
    "plt.scatter(y_tst, y_pred)\n",
    "plt.xlabel('Actual')\n",
    "plt.ylabel('Predicted')"
   ]
  },
  {
   "cell_type": "code",
   "execution_count": 71,
   "metadata": {},
   "outputs": [
    {
     "data": {
      "text/plain": [
       "<Axes: xlabel='math_score'>"
      ]
     },
     "execution_count": 71,
     "metadata": {},
     "output_type": "execute_result"
    },
    {
     "data": {
      "image/png": "[encoded data removed]",
      "text/plain": [
       "<Figure size 640x480 with 1 Axes>"
      ]
     },
     "metadata": {},
     "output_type": "display_data"
    }
   ],
   "source": [
    "sns.regplot(x=y_tst,y=y_pred,ci=None,color ='red')"
   ]
  },
  {
   "cell_type": "markdown",
   "metadata": {},
   "source": [
    "Difference between Actual and Predicted Values"
   ]
  },
  {
   "cell_type": "code",
   "execution_count": 74,
   "metadata": {},
   "outputs": [
    {
     "data": {
      "text/html": [
       "<div>\n",
       "<style scoped>\n",
       "    .dataframe tbody tr th:only-of-type {\n",
       "        vertical-align: middle;\n",
       "    }\n",
       "\n",
       "    .dataframe tbody tr th {\n",
       "        vertical-align: top;\n",
       "    }\n",
       "\n",
       "    .dataframe thead th {\n",
       "        text-align: right;\n",
       "    }\n",
       "</style>\n",
       "<table border=\"1\" class=\"dataframe\">\n",
       "  <thead>\n",
       "    <tr style=\"text-align: right;\">\n",
       "      <th></th>\n",
       "      <th>Actual</th>\n",
       "      <th>Pred</th>\n",
       "      <th>Diff</th>\n",
       "    </tr>\n",
       "  </thead>\n",
       "  <tbody>\n",
       "    <tr>\n",
       "      <th>430</th>\n",
       "      <td>64</td>\n",
       "      <td>64.251877</td>\n",
       "      <td>-0.251877</td>\n",
       "    </tr>\n",
       "    <tr>\n",
       "      <th>972</th>\n",
       "      <td>53</td>\n",
       "      <td>44.594639</td>\n",
       "      <td>8.405361</td>\n",
       "    </tr>\n",
       "    <tr>\n",
       "      <th>395</th>\n",
       "      <td>48</td>\n",
       "      <td>46.648693</td>\n",
       "      <td>1.351307</td>\n",
       "    </tr>\n",
       "    <tr>\n",
       "      <th>310</th>\n",
       "      <td>73</td>\n",
       "      <td>72.220026</td>\n",
       "      <td>0.779974</td>\n",
       "    </tr>\n",
       "    <tr>\n",
       "      <th>130</th>\n",
       "      <td>89</td>\n",
       "      <td>85.870989</td>\n",
       "      <td>3.129011</td>\n",
       "    </tr>\n",
       "    <tr>\n",
       "      <th>...</th>\n",
       "      <td>...</td>\n",
       "      <td>...</td>\n",
       "      <td>...</td>\n",
       "    </tr>\n",
       "    <tr>\n",
       "      <th>775</th>\n",
       "      <td>49</td>\n",
       "      <td>47.573738</td>\n",
       "      <td>1.426262</td>\n",
       "    </tr>\n",
       "    <tr>\n",
       "      <th>316</th>\n",
       "      <td>77</td>\n",
       "      <td>75.057214</td>\n",
       "      <td>1.942786</td>\n",
       "    </tr>\n",
       "    <tr>\n",
       "      <th>917</th>\n",
       "      <td>44</td>\n",
       "      <td>49.048184</td>\n",
       "      <td>-5.048184</td>\n",
       "    </tr>\n",
       "    <tr>\n",
       "      <th>666</th>\n",
       "      <td>63</td>\n",
       "      <td>58.238232</td>\n",
       "      <td>4.761768</td>\n",
       "    </tr>\n",
       "    <tr>\n",
       "      <th>323</th>\n",
       "      <td>43</td>\n",
       "      <td>43.998057</td>\n",
       "      <td>-0.998057</td>\n",
       "    </tr>\n",
       "  </tbody>\n",
       "</table>\n",
       "<p>200 rows × 3 columns</p>\n",
       "</div>"
      ],
      "text/plain": [
       "     Actual       Pred      Diff\n",
       "430      64  64.251877 -0.251877\n",
       "972      53  44.594639  8.405361\n",
       "395      48  46.648693  1.351307\n",
       "310      73  72.220026  0.779974\n",
       "130      89  85.870989  3.129011\n",
       "..      ...        ...       ...\n",
       "775      49  47.573738  1.426262\n",
       "316      77  75.057214  1.942786\n",
       "917      44  49.048184 -5.048184\n",
       "666      63  58.238232  4.761768\n",
       "323      43  43.998057 -0.998057\n",
       "\n",
       "[200 rows x 3 columns]"
      ]
     },
     "execution_count": 74,
     "metadata": {},
     "output_type": "execute_result"
    }
   ],
   "source": [
    "pred_diff = pd.DataFrame({'Actual':y_tst, 'Pred': y_pred, 'Diff': y_tst - y_pred})\n",
    "pred_diff"
   ]
  },
  {
   "cell_type": "code",
   "execution_count": 77,
   "metadata": {},
   "outputs": [
    {
     "data": {
      "text/plain": [
       "Actual     8.000000\n",
       "Pred      16.317249\n",
       "Diff     -13.630944\n",
       "dtype: float64"
      ]
     },
     "execution_count": 77,
     "metadata": {},
     "output_type": "execute_result"
    }
   ],
   "source": [
    "pred_diff.min()"
   ]
  },
  {
   "cell_type": "code",
   "execution_count": null,
   "metadata": {},
   "outputs": [],
   "source": []
  },
  {
   "cell_type": "code",
   "execution_count": null,
   "metadata": {},
   "outputs": [],
   "source": []
  },
  {
   "cell_type": "code",
   "execution_count": null,
   "metadata": {},
   "outputs": [],
   "source": []
  },
  {
   "cell_type": "code",
   "execution_count": null,
   "metadata": {},
   "outputs": [],
   "source": []
  },
  {
   "cell_type": "code",
   "execution_count": null,
   "metadata": {},
   "outputs": [],
   "source": []
  }
 ],
 "metadata": {
  "kernelspec": {
   "display_name": "env",
   "language": "python",
   "name": "python3"
  },
  "language_info": {
   "codemirror_mode": {
    "name": "ipython",
    "version": 3
   },
   "file_extension": ".py",
   "mimetype": "text/x-python",
   "name": "python",
   "nbconvert_exporter": "python",
   "pygments_lexer": "ipython3",
   "version": "3.13.1"
  }
 },
 "nbformat": 4,
 "nbformat_minor": 2
}
